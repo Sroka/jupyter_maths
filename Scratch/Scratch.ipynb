{
 "cells": [
  {
   "cell_type": "code",
   "execution_count": 5,
   "metadata": {
    "collapsed": true
   },
   "outputs": [
    {
     "data": {
      "text/plain": [
       "'$\\\\frac{d}{d x}\\\\left(\\\\sqrt{10} \\\\sqrt{1 / x}\\\\right)$'"
      ]
     },
     "execution_count": 0,
     "metadata": {},
     "output_type": "execute_result"
    }
   ],
   "source": [
    "import sympyex\n",
    "from sympy import Derivative, symbols, interactive, latex, sqrt\n",
    "from sympy.abc import x\n",
    "from IPython.display import display\n",
    "interactive.printing.init_printing(use_latex=\"mathjax\")\n",
    "\n",
    "# y, z, t = symbols('x y z t')\n",
    "display(latex(Derivative(sqrt(10 / x), x), mode='inline'))"
   ]
  },
  {
   "cell_type": "code",
   "execution_count": 4,
   "metadata": {},
   "outputs": [],
   "source": []
  },
  {
   "cell_type": "code",
   "execution_count": null,
   "metadata": {},
   "outputs": [],
   "source": []
  }
 ],
 "metadata": {
  "kernelspec": {
   "display_name": "Python 3",
   "language": "python",
   "name": "python3"
  },
  "language_info": {
   "codemirror_mode": {
    "name": "ipython",
    "version": 3
   },
   "file_extension": ".py",
   "mimetype": "text/x-python",
   "name": "python",
   "nbconvert_exporter": "python",
   "pygments_lexer": "ipython3",
   "version": "3.6.5"
  }
 },
 "nbformat": 4,
 "nbformat_minor": 2
}
