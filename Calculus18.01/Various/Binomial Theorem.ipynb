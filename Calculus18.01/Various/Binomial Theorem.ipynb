{
 "cells": [
  {
   "cell_type": "markdown",
   "metadata": {},
   "source": [
    "# Binomial Theorem\n",
    "Binomial theorem describes the result of a expansion of an equation of type $(x+y)^n$ called called **binomial**. Such expansion has a form of a sum of terms such as $ax^by^c$. \n",
    "\n",
    "## Binomial coefficient\n",
    "The values of a coefficient a is called **binomial coefficient**. It is often denoted as $\\binom{n}{k}$ what means that it is a coefficient as the power of a binomial equals *n* and before it's term where *x*'s or *y*'s power is equal to *k*. It's value can be given by formula:\n",
    "$$\\binom{n}{k}=\\frac{n!}{k!(n-k)!}$$\n",
    "\n",
    "### Pascal's triangle\n",
    "It's values can be easily remembered by calculating Pascal's triangle:"
   ]
  },
  {
   "cell_type": "code",
   "execution_count": 28,
   "metadata": {},
   "outputs": [
    {
     "data": {
      "text/latex": [
       "\\begin{equation}\\left [ 1.0\\right ]\\end{equation}"
      ],
      "text/plain": [
       "<IPython.core.display.Latex object>"
      ]
     },
     "metadata": {},
     "output_type": "display_data"
    },
    {
     "data": {
      "text/latex": [
       "\\begin{equation}\\left [ 1.0, \\quad 1.0\\right ]\\end{equation}"
      ],
      "text/plain": [
       "<IPython.core.display.Latex object>"
      ]
     },
     "metadata": {},
     "output_type": "display_data"
    },
    {
     "data": {
      "text/latex": [
       "\\begin{equation}\\left [ 1.0, \\quad 2.0, \\quad 1.0\\right ]\\end{equation}"
      ],
      "text/plain": [
       "<IPython.core.display.Latex object>"
      ]
     },
     "metadata": {},
     "output_type": "display_data"
    },
    {
     "data": {
      "text/latex": [
       "\\begin{equation}\\left [ 1.0, \\quad 3.0, \\quad 3.0, \\quad 1.0\\right ]\\end{equation}"
      ],
      "text/plain": [
       "<IPython.core.display.Latex object>"
      ]
     },
     "metadata": {},
     "output_type": "display_data"
    },
    {
     "data": {
      "text/latex": [
       "\\begin{equation}\\left [ 1.0, \\quad 4.0, \\quad 6.0, \\quad 4.0, \\quad 1.0\\right ]\\end{equation}"
      ],
      "text/plain": [
       "<IPython.core.display.Latex object>"
      ]
     },
     "metadata": {},
     "output_type": "display_data"
    },
    {
     "data": {
      "text/latex": [
       "\\begin{equation}\\left [ 1.0, \\quad 5.0, \\quad 10.0, \\quad 10.0, \\quad 5.0, \\quad 1.0\\right ]\\end{equation}"
      ],
      "text/plain": [
       "<IPython.core.display.Latex object>"
      ]
     },
     "metadata": {},
     "output_type": "display_data"
    },
    {
     "data": {
      "text/latex": [
       "\\begin{equation}\\left [ 1.0, \\quad 6.0, \\quad 15.0, \\quad 20.0, \\quad 15.0, \\quad 6.0, \\quad 1.0\\right ]\\end{equation}"
      ],
      "text/plain": [
       "<IPython.core.display.Latex object>"
      ]
     },
     "metadata": {},
     "output_type": "display_data"
    },
    {
     "data": {
      "text/latex": [
       "\\begin{equation}\\left [ 1.0, \\quad 7.0, \\quad 21.0, \\quad 35.0, \\quad 35.0, \\quad 21.0, \\quad 7.0, \\quad 1.0\\right ]\\end{equation}"
      ],
      "text/plain": [
       "<IPython.core.display.Latex object>"
      ]
     },
     "metadata": {},
     "output_type": "display_data"
    },
    {
     "data": {
      "text/latex": [
       "\\begin{equation}\\left [ 1.0, \\quad 8.0, \\quad 28.0, \\quad 56.0, \\quad 70.0, \\quad 56.0, \\quad 28.0, \\quad 8.0, \\quad 1.0\\right ]\\end{equation}"
      ],
      "text/plain": [
       "<IPython.core.display.Latex object>"
      ]
     },
     "metadata": {},
     "output_type": "display_data"
    }
   ],
   "source": [
    "from mpmath import *\n",
    "from sympy import latex, interactive\n",
    "from sympyex import *\n",
    "interactive.printing.init_printing(use_latex='mathjax')\n",
    "\n",
    "for n in range(9):\n",
    "    display_latex(latex(list(map(lambda coef: str(coef),[binomial(n, k) for k in range(0, n + 1)])), mode='equation'))"
   ]
  },
  {
   "cell_type": "markdown",
   "metadata": {},
   "source": [
    "### Combinatorics\n",
    "Binomial coefficient $\\binom{n}{k}$ is also often called *n choose k* That is because it value describes in how many **unique** ways we can choose k items from the set of size n"
   ]
  },
  {
   "cell_type": "code",
   "execution_count": null,
   "metadata": {},
   "outputs": [],
   "source": []
  }
 ],
 "metadata": {
  "kernelspec": {
   "display_name": "Python 3",
   "language": "python",
   "name": "python3"
  },
  "language_info": {
   "codemirror_mode": {
    "name": "ipython",
    "version": 3
   },
   "file_extension": ".py",
   "mimetype": "text/x-python",
   "name": "python",
   "nbconvert_exporter": "python",
   "pygments_lexer": "ipython3",
   "version": "3.6.5"
  }
 },
 "nbformat": 4,
 "nbformat_minor": 2
}
