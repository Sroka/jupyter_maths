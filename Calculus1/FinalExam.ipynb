{
 "cells": [
  {
   "cell_type": "markdown",
   "metadata": {},
   "source": [
    "# Calculus 1 - Final Exam"
   ]
  },
  {
   "cell_type": "code",
   "execution_count": 2,
   "metadata": {},
   "outputs": [],
   "source": [
    "% matplotlib inline\n",
    "from sympy import *\n",
    "from sympyex import *\n",
    "interactive.printing.init_printing(use_latex='mathjax')"
   ]
  },
  {
   "cell_type": "markdown",
   "metadata": {},
   "source": [
    "1. Compute the following:"
   ]
  },
  {
   "cell_type": "markdown",
   "metadata": {},
   "source": [
    "* (a) Find $\\frac{d}{dx}f(x)$ where $f(x)=x^3e^x$"
   ]
  },
  {
   "cell_type": "code",
   "execution_count": 6,
   "metadata": {
    "collapsed": false
   },
   "outputs": [
    {
     "data": {
      "text/latex": [
       "\n",
       "\\begin{equation}\n",
       "\\text{Using product rule of }x^{3}\\text{ and }e^{x} \\\\\n",
       "\\text{Answer: } \\frac{d}{dx}x^{3} e^{x}=x^{3} e^{x} + 3 x^{2} e^{x}\n",
       "\\end{equation}\n"
      ],
      "text/plain": [
       "<IPython.core.display.Latex object>"
      ]
     },
     "metadata": {},
     "output_type": "display_data"
    }
   ],
   "source": [
    "display = r\"\"\"\n",
    "\\begin{equation}\n",
    "\\text{Using product rule of }%(e1)s\\text{ and }%(e2)s \\\\\n",
    "\\text{Answer: } \\frac{d}{dx}%(e3)s=%(e4)s\n",
    "\\end{equation}\n",
    "\"\"\"\n",
    "x = symbols('x')\n",
    "f_x = x ** 3 * E ** x\n",
    "solution = 3*x**2*E**x + x**3*E**x \n",
    "# solution = Derivative(f_x, x).doit()\n",
    "display_args = {\n",
    "    \"e1\": (x ** 3).latex(),\n",
    "    \"e2\": (E ** x).latex(),\n",
    "    \"e3\": f_x.latex(),\n",
    "    \"e4\": solution.latex()\n",
    "}\n",
    "display_latex(display % display_args)"
   ]
  },
  {
   "cell_type": "markdown",
   "metadata": {},
   "source": [
    "* (b) Find $\\frac{d^7}{dx^7}f(x)$ where $f(x)=sin(2x)$"
   ]
  },
  {
   "cell_type": "code",
   "execution_count": 14,
   "metadata": {},
   "outputs": [
    {
     "data": {
      "text/latex": [
       "\n",
       "\\begin{equation}\n",
       "f(x)=sin(2x)\\\\\n",
       "\\frac{d}{dx}f(x)=2cos(2x)\\\\\n",
       "\\frac{d^2}{dx^2}f(x)=-4sin(2x)\\\\\n",
       "\\frac{d^3}{dx^3}f(x)=-8cos(2x)\\\\\n",
       "\\frac{d^4}{dx^4}f(x)=16sin(2x)\\\\\n",
       "\\frac{d^5}{dx^5}f(x)=32cos(2x)\\\\\n",
       "\\frac{d^6}{dx^6}f(x)=-64sin(2x)\\\\\n",
       "\\text{Answer: }\\frac{d^7}{dx^7}f(x)=- 128 \\cos{\\left (2 x \\right )}\n",
       "\\end{equation}\n"
      ],
      "text/plain": [
       "<IPython.core.display.Latex object>"
      ]
     },
     "metadata": {},
     "output_type": "display_data"
    }
   ],
   "source": [
    "display = r\"\"\"\n",
    "\\begin{equation}\n",
    "f(x)=sin(2x)\\\\\n",
    "\\frac{d}{dx}f(x)=2cos(2x)\\\\\n",
    "\\frac{d^2}{dx^2}f(x)=-4sin(2x)\\\\\n",
    "\\frac{d^3}{dx^3}f(x)=-8cos(2x)\\\\\n",
    "\\frac{d^4}{dx^4}f(x)=16sin(2x)\\\\\n",
    "\\frac{d^5}{dx^5}f(x)=32cos(2x)\\\\\n",
    "\\frac{d^6}{dx^6}f(x)=-64sin(2x)\\\\\n",
    "\\text{Answer: }\\frac{d^7}{dx^7}f(x)=%(solution)s\n",
    "\\end{equation}\n",
    "\"\"\"\n",
    "\n",
    "x = Symbol('x')\n",
    "f_x=sin(2*x)\n",
    "solution = -128*cos(2*x)\n",
    "solution = diff(f_x, x, 7)\n",
    "display_args = {\n",
    "    \"solution\": solution.latex()\n",
    "}\n",
    "display_latex(display%display_args)"
   ]
  },
  {
   "cell_type": "code",
   "execution_count": null,
   "metadata": {},
   "outputs": [],
   "source": []
  }
 ],
 "metadata": {
  "kernelspec": {
   "display_name": "Python 3",
   "language": "python",
   "name": "python3"
  },
  "language_info": {
   "codemirror_mode": {
    "name": "ipython",
    "version": 3
   },
   "file_extension": ".py",
   "mimetype": "text/x-python",
   "name": "python",
   "nbconvert_exporter": "python",
   "pygments_lexer": "ipython3",
   "version": "3.6.5"
  }
 },
 "nbformat": 4,
 "nbformat_minor": 2
}
