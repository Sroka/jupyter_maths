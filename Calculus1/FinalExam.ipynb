{
 "cells": [
  {
   "cell_type": "markdown",
   "metadata": {},
   "source": [
    "# Calculus 1 - Final Exam"
   ]
  },
  {
   "cell_type": "code",
   "execution_count": 332,
   "metadata": {},
   "outputs": [],
   "source": [
    "% matplotlib inline\n",
    "from sympy import Function, Derivative, Integral, Eq, Sum, solve \n",
    "from sympy import diff, idiff\n",
    "from sympy import Limit, limit, limit_seq\n",
    "from sympy import sin, cos, tan, sec, log, sqrt, binomial\n",
    "from sympy import oo, E, pi\n",
    "from sympy import symbols, Symbol, lambdify\n",
    "import sympy as smp\n",
    "from __future__ import division\n",
    "from sympy.interactive import printing\n",
    "from sympyex import *\n",
    "from numpy import linspace\n",
    "\n",
    "import matplotlib.pyplot as plt\n",
    "\n",
    "from IPython.display import Latex, Markdown, Image, display\n",
    "\n",
    "printing.init_printing(use_latex='mathjax')"
   ]
  },
  {
   "cell_type": "markdown",
   "metadata": {},
   "source": [
    "1. Compute the following:"
   ]
  },
  {
   "cell_type": "markdown",
   "metadata": {},
   "source": [
    "* (a) Find $\\frac{d}{dx}f(x)$ where $f(x)=x^3e^x$"
   ]
  },
  {
   "cell_type": "code",
   "execution_count": 207,
   "metadata": {
    "collapsed": false
   },
   "outputs": [
    {
     "data": {
      "text/latex": [
       "\n",
       "\\begin{equation}\n",
       "\\text{Using product rule of }x^{3}\\text{ and }e^{x} \\\\\n",
       "\\text{Answer: } \\frac{d}{dx}x^{3} e^{x}=x^{3} e^{x} + 3 x^{2} e^{x}\n",
       "\\end{equation}\n"
      ],
      "text/plain": [
       "<IPython.core.display.Latex object>"
      ]
     },
     "metadata": {},
     "output_type": "display_data"
    }
   ],
   "source": [
    "displayed = r\"\"\"\n",
    "\\begin{equation}\n",
    "\\text{Using product rule of }%(e1)s\\text{ and }%(e2)s \\\\\n",
    "\\text{Answer: } \\frac{d}{dx}%(e3)s=%(e4)s\n",
    "\\end{equation}\n",
    "\"\"\"\n",
    "x = symbols('x')\n",
    "f_x = x ** 3 * E ** x\n",
    "solution = 3*x**2*E**x + x**3*E**x \n",
    "# solution = Derivative(f_x, x).doit()\n",
    "display_args = {\n",
    "    \"e1\": (x ** 3).latex(),\n",
    "    \"e2\": (E ** x).latex(),\n",
    "    \"e3\": f_x.latex(),\n",
    "    \"e4\": solution.latex()\n",
    "}\n",
    "display_latex(displayed % display_args)"
   ]
  },
  {
   "cell_type": "markdown",
   "metadata": {},
   "source": [
    "* (b) Find $\\frac{d^7}{dx^7}f(x)$ where $f(x)=sin(2x)$"
   ]
  },
  {
   "cell_type": "code",
   "execution_count": 208,
   "metadata": {},
   "outputs": [
    {
     "data": {
      "text/latex": [
       "\n",
       "\\begin{equation}\n",
       "f(x)=sin(2x)\\\\\n",
       "\\frac{d}{dx}f(x)=2cos(2x)\\\\\n",
       "\\frac{d^2}{dx^2}f(x)=-4sin(2x)\\\\\n",
       "\\frac{d^3}{dx^3}f(x)=-8cos(2x)\\\\\n",
       "\\frac{d^4}{dx^4}f(x)=16sin(2x)\\\\\n",
       "\\frac{d^5}{dx^5}f(x)=32cos(2x)\\\\\n",
       "\\frac{d^6}{dx^6}f(x)=-64sin(2x)\\\\\n",
       "\\text{Answer: }\\frac{d^7}{dx^7}f(x)=- 128 \\cos{\\left (2 x \\right )}\n",
       "\\end{equation}\n"
      ],
      "text/plain": [
       "<IPython.core.display.Latex object>"
      ]
     },
     "metadata": {},
     "output_type": "display_data"
    }
   ],
   "source": [
    "displayed = r\"\"\"\n",
    "\\begin{equation}\n",
    "f(x)=sin(2x)\\\\\n",
    "\\frac{d}{dx}f(x)=2cos(2x)\\\\\n",
    "\\frac{d^2}{dx^2}f(x)=-4sin(2x)\\\\\n",
    "\\frac{d^3}{dx^3}f(x)=-8cos(2x)\\\\\n",
    "\\frac{d^4}{dx^4}f(x)=16sin(2x)\\\\\n",
    "\\frac{d^5}{dx^5}f(x)=32cos(2x)\\\\\n",
    "\\frac{d^6}{dx^6}f(x)=-64sin(2x)\\\\\n",
    "\\text{Answer: }\\frac{d^7}{dx^7}f(x)=%(solution)s\n",
    "\\end{equation}\n",
    "\"\"\"\n",
    "\n",
    "x = Symbol('x')\n",
    "f_x=sin(2*x)\n",
    "solution = -128*cos(2*x)\n",
    "solution = diff(f_x, x, 7)\n",
    "display_args = {\n",
    "    \"solution\": solution.latex()\n",
    "}\n",
    "display_latex(displayed % display_args)"
   ]
  },
  {
   "cell_type": "markdown",
   "metadata": {},
   "source": [
    "2."
   ]
  },
  {
   "cell_type": "markdown",
   "metadata": {},
   "source": [
    "* (a) Find the tangent line to $f(x) = 3x^2-5x+2$ at $x=2$. Express your answer in the form $g=mx+b$ with slope *m* and y-intercept *b*."
   ]
  },
  {
   "cell_type": "code",
   "execution_count": 209,
   "metadata": {},
   "outputs": [
    {
     "data": {
      "text/latex": [
       "\n",
       "\\begin{equation}\n",
       "\\text{Calculating the slope at }x=2\\\\\n",
       "\\frac{d}{dx}f(x)=6x-5\\\\\n",
       "\\frac{d}{dx}f(2)=12-5=7\\\\\n",
       "g(x)=7x+b\\\\\n",
       "\\text{Calculate intercept}\\\\\n",
       "g(2)=f(2)\\\\\n",
       "7*2+b=3*2^2-5*x+2\\\\\n",
       "b=12-10+2-14=-10\\\\\n",
       "g(x)=7x-10\n",
       "\\end{equation}\n"
      ],
      "text/plain": [
       "<IPython.core.display.Latex object>"
      ]
     },
     "metadata": {},
     "output_type": "display_data"
    },
    {
     "data": {
      "text/plain": [
       "<function matplotlib.pyplot.show(*args, **kw)>"
      ]
     },
     "execution_count": 209,
     "metadata": {},
     "output_type": "execute_result"
    },
    {
     "data": {
      "image/png": "[encoded data removed]",
      "text/plain": [
       "<Figure size 432x288 with 1 Axes>"
      ]
     },
     "metadata": {},
     "output_type": "display_data"
    }
   ],
   "source": [
    "displayed = r\"\"\"\n",
    "\\begin{equation}\n",
    "\\text{Calculating the slope at }x=2\\\\\n",
    "\\frac{d}{dx}f(x)=6x-5\\\\\n",
    "\\frac{d}{dx}f(2)=12-5=7\\\\\n",
    "g(x)=7x+b\\\\\n",
    "\\text{Calculate intercept}\\\\\n",
    "g(2)=f(2)\\\\\n",
    "7*2+b=3*2^2-5*x+2\\\\\n",
    "b=12-10+2-14=-10\\\\\n",
    "g(x)=7x-10\n",
    "\\end{equation}\n",
    "\"\"\"\n",
    "\n",
    "x = Symbol('x')\n",
    "f_x = 3 * x ** 2 - 5 * x + 2\n",
    "g_x = 7 * x - 10\n",
    "display_latex(displayed)\n",
    "x_pts = linspace(-5, 5, 100)\n",
    "f_x_pts = lambdify(x, f_x)(x_pts)\n",
    "g_x_pts = lambdify(x, g_x)(x_pts)\n",
    "plt.plot(x_pts, f_x_pts)\n",
    "plt.plot(x_pts, g_x_pts)\n",
    "plt.xlabel('x')\n",
    "plt.ylabel('y')\n",
    "plt.show"
   ]
  },
  {
   "cell_type": "markdown",
   "metadata": {},
   "source": [
    "* (b) Show that the curve defined implicitly by the equation $xy^3+x^3y=4$ has no horizontal tangent"
   ]
  },
  {
   "cell_type": "code",
   "execution_count": 210,
   "metadata": {},
   "outputs": [
    {
     "data": {
      "text/latex": [
       "\n",
       "\\begin{equation}\n",
       "\\text{Using implicit differentiation}\\\\\n",
       "y^3 + x3y^2\\frac{dy}{dx}+ 3x^2y + x^3\\frac{dy}{dx} = 0\\\\\n",
       "\\frac{dy}{dx}(3xy^2+x^3)= -3y^3 - 3x^2y\\\\\n",
       "\\frac{dy}{dx}=\\frac{-3y^3 - 3x^2y}{3xy^2+x^3} = 0\\\\\n",
       "3y^3=-3x^2y\\\\\n",
       "y=\\sqrt{-x^2}\\text{, Sympy answer: }\\frac{d}{d x} y = - \\frac{y \\left(3 x^{2} + y^{2}\\right)}{x \\left(x^{2} + 3 y^{2}\\right)} = 0\\\\\n",
       "\\text{Answer: As a square from a negative number never has a solution there exists no such x that will have derivative equal to 0 and, thus, won't have horizontal tangent}\n",
       "\\end{equation}\n"
      ],
      "text/plain": [
       "<IPython.core.display.Latex object>"
      ]
     },
     "metadata": {},
     "output_type": "display_data"
    },
    {
     "ename": "NameError",
     "evalue": "name 'plot_implicit' is not defined",
     "output_type": "error",
     "traceback": [
      "\u001b[0;31m---------------------------------------------------------------------------\u001b[0m",
      "\u001b[0;31mNameError\u001b[0m                                 Traceback (most recent call last)",
      "\u001b[0;32m<ipython-input-210-91b31d811c5c>\u001b[0m in \u001b[0;36m<module>\u001b[0;34m()\u001b[0m\n\u001b[1;32m     22\u001b[0m \u001b[0mdisplay_latex\u001b[0m\u001b[0;34m(\u001b[0m\u001b[0mdisplayed\u001b[0m \u001b[0;34m%\u001b[0m \u001b[0mdisplay_args\u001b[0m\u001b[0;34m)\u001b[0m\u001b[0;34m\u001b[0m\u001b[0m\n\u001b[1;32m     23\u001b[0m \u001b[0;34m\u001b[0m\u001b[0m\n\u001b[0;32m---> 24\u001b[0;31m \u001b[0mplot_implicit\u001b[0m\u001b[0;34m(\u001b[0m\u001b[0mequation\u001b[0m\u001b[0;34m)\u001b[0m\u001b[0;34m\u001b[0m\u001b[0m\n\u001b[0m",
      "\u001b[0;31mNameError\u001b[0m: name 'plot_implicit' is not defined"
     ]
    }
   ],
   "source": [
    "    displayed = r\"\"\"\n",
    "    \\begin{equation}\n",
    "    \\text{Using implicit differentiation}\\\\\n",
    "    y^3 + x3y^2\\frac{dy}{dx}+ 3x^2y + x^3\\frac{dy}{dx} = 0\\\\\n",
    "    \\frac{dy}{dx}(3xy^2+x^3)= -3y^3 - 3x^2y\\\\\n",
    "    \\frac{dy}{dx}=\\frac{-3y^3 - 3x^2y}{3xy^2+x^3} = 0\\\\\n",
    "    3y^3=-3x^2y\\\\\n",
    "    y=\\sqrt{-x^2}\\text{, Sympy answer: }%(solution)s\\\\\n",
    "    \\text{Answer: As a square from a negative number never has a solution there exists no such x that will have derivative equal to 0 and, thus, won't have horizontal tangent}\n",
    "    \\end{equation}\n",
    "    \"\"\"\n",
    "    x, y= symbols('x y')\n",
    "#     y = Function('y')(x)\n",
    "    equation = x * y ** 3 + x **3 * y - 4\n",
    "    solution = Derivative(y, x).eq(idiff(equation, y, x)).eq(0)\n",
    "    \n",
    "    \n",
    "    display_args = {\n",
    "        \"solution\": solution.latex()\n",
    "    }\n",
    "    \n",
    "    display_latex(displayed % display_args)\n",
    "    \n",
    "    plot_implicit(equation)"
   ]
  },
  {
   "cell_type": "markdown",
   "metadata": {},
   "source": [
    "3."
   ]
  },
  {
   "cell_type": "markdown",
   "metadata": {},
   "source": [
    "* (a) Use the DEFINITION of the derivative to compute $\\frac{d}{dz}(\\frac{x}{x+1})$"
   ]
  },
  {
   "cell_type": "code",
   "execution_count": null,
   "metadata": {},
   "outputs": [],
   "source": [
    "displayed = r\"\"\"\n",
    "\\begin{equation}\n",
    "f(x_0+dx)=\n",
    "\\lim_{dx \\to 0} \\frac{\\frac{x_0+dx}{x_0+dx+1}-\\frac{x_0}{x_0+1}}{dx}=\\\\\n",
    "\\lim_{dx \\to 0} \\frac{\\frac{x_0^2+x_0+x_0dx+dx-x_0^2-x_0dx-x_0}{x_0^2+x_0dx+x_0+x_0+dx+1}}{dx}=\\\\\n",
    "\\lim_{dx \\to 0} \\frac{dx}{dx(x_0^2+2x_0+x_0dx+dx+1)}=\\\\\n",
    "\\lim_{dx \\to 0} \\frac{1}{x_0^2+2x_0+x_0dx+dx+1}= \\frac{1}{x_0^2+2x_0+1} = \\frac{1}{(x+1)^2}\n",
    "\\end{equation}\n",
    "\"\"\"\n",
    "display_latex(displayed)"
   ]
  },
  {
   "cell_type": "markdown",
   "metadata": {},
   "source": [
    "* (b) Compute the following limit:\n",
    "$$\\lim_{x \\to \\sqrt{3}}\\frac{tan^{-1}(x)-\\pi/3}{x-\\sqrt{3}}$$\n",
    "where as usual $tan^{-1}(x) denotes the inverse tangent function"
   ]
  },
  {
   "cell_type": "code",
   "execution_count": null,
   "metadata": {},
   "outputs": [],
   "source": [
    "displayed = r\"\"\"\n",
    "\\begin{equation}\n",
    "\\text{Use L'Hopital's rule}\n",
    "\\lim_{x \\to \\sqrt{3}}\\frac{tan^{-1}(x)-\\pi/3}{x-\\sqrt{3}}=\n",
    "\\lim_{x \\to \\sqrt{3}}\\frac{\\frac{d}{dx}(tan^{-1}(x)-\\pi/3)}{\\frac{d}{dx}(x-\\sqrt{3})}=\n",
    "\\lim_{x \\to \\sqrt{3}}\\frac{\\frac{1}{1+x^2}}{1}=\n",
    "\\lim_{x \\to \\sqrt{3}}\\frac{1}{1+x^2}=\n",
    "\\lim_{x \\to \\sqrt{3}}\\frac{1}{1+x^2}=\\frac{1}{4}\n",
    "\\end{equation}\n",
    "\"\"\"\n",
    "display_latex(displayed)"
   ]
  },
  {
   "cell_type": "markdown",
   "metadata": {},
   "source": [
    "4.\n",
    "Sketch the graph of the function\n",
    "$$y=\\frac{x}{x^2+1}$$\n",
    "Be sure to identify in writing all local maxs and mins, regions where the function is increasing/decreasing, points of infplection, symmetries, and verical or horizontal asymptotes (if any of these behaviors occur)"
   ]
  },
  {
   "cell_type": "code",
   "execution_count": 246,
   "metadata": {},
   "outputs": [
    {
     "data": {
      "text/latex": [
       "\n",
       "\\begin{equation}\n",
       "\\textbf{Calculate the derivative}\\\\\n",
       "\\frac{d}{dx}\\frac{x}{x^2+1}=\\frac{x^2 + 1 - 2x^2}{(x^2+1)^2}=\\frac{-x^2+1}{(x^2+1)^2}\\\\\n",
       "\\text{Sympy answer: }- \\frac{2 x^{2}}{\\left(x^{2} + 1\\right)^{2}} + \\frac{1}{x^{2} + 1}\\\\\n",
       "\\textbf{Find extremas (places where the derivative equals 0)}\\\\\n",
       "\\text{Sympy extremas: }\\left [ -1, \\quad 1\\right ]\\\\\n",
       "\\textbf{Calculate second derivative}\\\\\n",
       "\\frac{d}{dx}\\frac{-x^2+1}{(x^2+1)^2}=\\frac{-2x^2(x^2+1)^2-(-x^2+1)4x(x^2+1)}{(x^2+1)^2}\\\\\n",
       "\\text{Sympy answer: }\\frac{2 x}{\\left(x^{2} + 1\\right)^{2}} \\left(\\frac{4 x^{2}}{x^{2} + 1} - 3\\right)\\\\\n",
       "\\textbf{Find inflection points}\\\\\n",
       "\\left [ 0, \\quad - \\sqrt{3}, \\quad \\sqrt{3}\\right ]\\\\\n",
       "\\textbf{Find asymptotes}\\\\\n",
       "\\lim_{x \\to \\infty}\\left(\\frac{x}{x^{2} + 1}\\right) = 0\\\\\n",
       "\\lim_{x \\to -\\infty}\\left(\\frac{x}{x^{2} + 1}\\right) = 0\n",
       "\n",
       "\\end{equation}\n"
      ],
      "text/plain": [
       "<IPython.core.display.Latex object>"
      ]
     },
     "metadata": {},
     "output_type": "display_data"
    },
    {
     "data": {
      "image/png": "[encoded data removed]",
      "text/plain": [
       "<Figure size 432x288 with 1 Axes>"
      ]
     },
     "metadata": {},
     "output_type": "display_data"
    }
   ],
   "source": [
    "displayed = r\"\"\"\n",
    "\\begin{equation}\n",
    "\\textbf{Calculate the derivative}\\\\\n",
    "\\frac{d}{dx}\\frac{x}{x^2+1}=\\frac{x^2 + 1 - 2x^2}{(x^2+1)^2}=\\frac{-x^2+1}{(x^2+1)^2}\\\\\n",
    "\\text{Sympy answer: }%(derivative)s\\\\\n",
    "\\textbf{Find extremas (places where the derivative equals 0)}\\\\\n",
    "\\text{Sympy extremas: }%(extremas)s\\\\\n",
    "\\textbf{Calculate second derivative}\\\\\n",
    "\\frac{d}{dx}\\frac{-x^2+1}{(x^2+1)^2}=\\frac{-2x^2(x^2+1)^2-(-x^2+1)4x(x^2+1)}{(x^2+1)^2}\\\\\n",
    "\\text{Sympy answer: }%(derivative2)s\\\\\n",
    "\\textbf{Find inflection points}\\\\\n",
    "%(inflections)s\\\\\n",
    "\\textbf{Find asymptotes}\\\\\n",
    "%(lim_inf_eq)s\\\\\n",
    "%(lim_minus_inf_eq)s\n",
    "\n",
    "\\end{equation}\n",
    "\"\"\"\n",
    "x = symbols('x')\n",
    "equation = x / (x ** 2 + 1)\n",
    "derivative = diff(equation, x)\n",
    "derivative2 = diff(equation, x, 2)\n",
    "extremas = solve(Eq(derivative, 0).doit())\n",
    "inflections = solve(Eq(derivative2, 0).doit())\n",
    "lim_inf_eq = Limit(equation, x, oo)\n",
    "lim_minus_inf_eq = Limit(equation, x, -oo)\n",
    "\n",
    "\n",
    "display_args = {\n",
    "    \"derivative\": derivative.latex(),\n",
    "    \"derivative2\": derivative2.latex(),\n",
    "    \"extremas\": latex(extremas),\n",
    "    \"inflections\": latex(inflections),\n",
    "    \"lim_inf_eq\": latex(Eq(lim_inf_eq, lim_inf_eq.doit())),\n",
    "    \"lim_minus_inf_eq\": latex(Eq(lim_minus_inf_eq, lim_minus_inf_eq.doit()))\n",
    "}\n",
    "display_latex(displayed % display_args)\n",
    "\n",
    "\n",
    "x_pts = linspace(-4, 4, 100)\n",
    "\n",
    "y_x_pts = lambdify(x, equation)(x_pts)\n",
    "plt.plot(x_pts, y_x_pts)\n",
    "plt.show()"
   ]
  },
  {
   "cell_type": "markdown",
   "metadata": {},
   "source": [
    "5.\n",
    "A poster is designed with $50 in^2$ of printed type, 4 inch margins on both the top and the bottom, and 2 inch margins on each side. Find the dimensions of the poster wich minimize the amount of paper used. (Be sure to indicate why the answer you found is a minimum)"
   ]
  },
  {
   "cell_type": "code",
   "execution_count": 247,
   "metadata": {},
   "outputs": [
    {
     "data": {
      "image/png": "[encoded data removed]",
      "text/plain": [
       "<IPython.core.display.Image object>"
      ]
     },
     "metadata": {
      "image/png": {
       "width": 200
      }
     },
     "output_type": "display_data"
    }
   ],
   "source": [
    "display(Image(filename = \"5_figure.png\", width=200))"
   ]
  },
  {
   "cell_type": "code",
   "execution_count": 248,
   "metadata": {},
   "outputs": [
    {
     "data": {
      "text/latex": [
       "\n",
       "\\begin{equation}\n",
       "\\text{Side of a printable area - b}\\\\\n",
       "\\text{Top/Bottom of a printable area - a}\\\\\n",
       "ab=50\\\\\n",
       "b=\\frac{50}{a}\\\\\n",
       "f(a)=(b+2(4))(a+2(2))\\\\\n",
       "f(a)=ab+4b+8a+32\\\\\n",
       "f(a)=50+\\frac{200}{a}+8a+32\\\\\n",
       "\\frac{d}{da}f(a)=\\frac{-200}{a^2} + 8\\\\\n",
       "a^2=\\frac{200}{8}\\\\\n",
       "a=\\sqrt{25}=5\\\\\n",
       "b=\\frac{50}{a}=10\\\\\n",
       "\\text{Answer: The dimensions are $5+2(2)=9$ and $10+2(4)=18$}\n",
       "\\end{equation}\n"
      ],
      "text/plain": [
       "<IPython.core.display.Latex object>"
      ]
     },
     "metadata": {},
     "output_type": "display_data"
    }
   ],
   "source": [
    "displayed = r\"\"\"\n",
    "\\begin{equation}\n",
    "\\text{Side of a printable area - b}\\\\\n",
    "\\text{Top/Bottom of a printable area - a}\\\\\n",
    "ab=50\\\\\n",
    "b=\\frac{50}{a}\\\\\n",
    "f(a)=(b+2(4))(a+2(2))\\\\\n",
    "f(a)=ab+4b+8a+32\\\\\n",
    "f(a)=50+\\frac{200}{a}+8a+32\\\\\n",
    "\\frac{d}{da}f(a)=\\frac{-200}{a^2} + 8\\\\\n",
    "a^2=\\frac{200}{8}\\\\\n",
    "a=\\sqrt{25}=5\\\\\n",
    "b=\\frac{50}{a}=10\\\\\n",
    "\\text{Answer: The dimensions are $5+2(2)=9$ and $10+2(4)=18$}\n",
    "\\end{equation}\n",
    "\"\"\"\n",
    "\n",
    "display_latex(displayed)"
   ]
  },
  {
   "cell_type": "markdown",
   "metadata": {},
   "source": [
    "6.\n",
    "A highway patrol plane is flying 1 mile a bove a long straight road, with a constant ground speed of 120 m.p.h. Using radar, the pilot detects a car whose distance from the plane is 1.5 miles and decreasing at a rate of 136 m.p.h. How fast is the car traveling along the highway? (Hint: You may give an exact answer, or use the fact that $\\sqrt{5}\\approx2.2$"
   ]
  },
  {
   "cell_type": "code",
   "execution_count": null,
   "metadata": {},
   "outputs": [],
   "source": [
    "display(Image(\"6_figure.png\", width=200))"
   ]
  },
  {
   "cell_type": "code",
   "execution_count": 249,
   "metadata": {},
   "outputs": [
    {
     "data": {
      "text/latex": [
       "\n",
       "\\begin{equation}\n",
       "\\text{Car distance to plane - y}\\\\\n",
       "\\text{Car distance to plane along the ground - x}\\\\\n",
       "x^2+1=y^2\\\\\n",
       "y=\\sqrt{x^2+1}\\\\\n",
       "\\textbf{Differentiate by time}\\\\\n",
       "\\frac{dy}{dt}=\\frac{1}{2}\\frac{2x}{\\sqrt{x^2+1}}(\\frac{dx}{dt})=-136\\\\\n",
       "\\textbf{Find }x_0\\\\\n",
       "y_0=\\frac{3}{2}\\\\\n",
       "x=\\sqrt{y^2-1}\\\\\n",
       "x_0=\\frac{\\sqrt{5}}{2}\\\\\n",
       "\\textbf{Substitute}\\\\\n",
       "\\frac{dx}{dt}=\\frac{-136\\sqrt{x^2+1}}{x}\\\\\n",
       "\\text{At }x_0\\\\\n",
       "\\frac{dx}{dt}=\\frac{-136(\\frac{3}{2})}{\\frac{\\sqrt{5}}{2}}\\\\\n",
       "\\frac{dx}{dt}=-136\\frac{3}{\\sqrt{5}}\\\\\n",
       "\\textbf{Calculate speed by excluding jet speed}\\\\\n",
       "\\frac{dc}{dt}=136\\frac{3}{\\sqrt{5}}-120\n",
       "\\end{equation}\n"
      ],
      "text/plain": [
       "<IPython.core.display.Latex object>"
      ]
     },
     "metadata": {},
     "output_type": "display_data"
    }
   ],
   "source": [
    "displayed = r\"\"\"\n",
    "\\begin{equation}\n",
    "\\text{Car distance to plane - y}\\\\\n",
    "\\text{Car distance to plane along the ground - x}\\\\\n",
    "x^2+1=y^2\\\\\n",
    "y=\\sqrt{x^2+1}\\\\\n",
    "\\textbf{Differentiate by time}\\\\\n",
    "\\frac{dy}{dt}=\\frac{1}{2}\\frac{2x}{\\sqrt{x^2+1}}(\\frac{dx}{dt})=-136\\\\\n",
    "\\textbf{Find }x_0\\\\\n",
    "y_0=\\frac{3}{2}\\\\\n",
    "x=\\sqrt{y^2-1}\\\\\n",
    "x_0=\\frac{\\sqrt{5}}{2}\\\\\n",
    "\\textbf{Substitute}\\\\\n",
    "\\frac{dx}{dt}=\\frac{-136\\sqrt{x^2+1}}{x}\\\\\n",
    "\\text{At }x_0\\\\\n",
    "\\frac{dx}{dt}=\\frac{-136(\\frac{3}{2})}{\\frac{\\sqrt{5}}{2}}\\\\\n",
    "\\frac{dx}{dt}=-136\\frac{3}{\\sqrt{5}}\\\\\n",
    "\\textbf{Calculate speed by excluding jet speed}\\\\\n",
    "\\frac{dc}{dt}=136\\frac{3}{\\sqrt{5}}-120\n",
    "\\end{equation}\n",
    "\"\"\"\n",
    "display_latex(displayed)"
   ]
  },
  {
   "cell_type": "markdown",
   "metadata": {},
   "source": [
    "7.\n",
    "Evaluate the following limits:"
   ]
  },
  {
   "cell_type": "markdown",
   "metadata": {},
   "source": [
    "* (a) $$\\lim_{n \\to \\infty}\\sum_{i=1}^{n}\\sqrt{1+\\frac{2i}{n}}\\frac{2}{n}$$"
   ]
  },
  {
   "cell_type": "code",
   "execution_count": null,
   "metadata": {},
   "outputs": [],
   "source": [
    "n, i = symbols('n i')\n",
    "eq_7a = sqrt(1 + (2 * i)/(n))\n",
    "sum_7a = Sum(eq_7a, (i, 1, n))  * (2 / n)\n",
    "lim_7a = limit_seq(sum_7a, n)\n",
    "display_latex(r\"\"\"\n",
    "\\begin{equation}\n",
    "\\text{Wrong SymPy answer: }%s\n",
    "\\end{equation}\n",
    "\"\"\" % latex(lim_7a))"
   ]
  },
  {
   "cell_type": "markdown",
   "metadata": {},
   "source": [
    "* (b)\n"
   ]
  },
  {
   "cell_type": "code",
   "execution_count": 236,
   "metadata": {},
   "outputs": [
    {
     "data": {
      "text/latex": [
       "\n",
       "\\begin{equation}\n",
       "\\lim_{h \\to 0^+}\\left(\\frac{1}{h} \\int_{2}^{h + 2} \\sin{\\left (x^{2} \\right )}\\, dx\\right)\\\\\n",
       "\\text{Wrong sympy answer: }\\frac{3 \\Gamma{\\left(\\frac{3}{4} \\right)}}{4 \\Gamma{\\left(\\frac{7}{4} \\right)}} \\sin{\\left (4 \\right )}\\\\\n",
       "\\text{Correct answer: }\\\\\n",
       "\\lim_{h \\to 0^+}\\left(\\frac{1}{h} \\int_{2}^{h + 2} \\sin{\\left (x^{2} \\right )}\\, dx\\right)\\\\\n",
       "\\text{Using L'Hopital's rule}\\\\\n",
       "\\lim_{h \\to 0}\\frac{\\frac{d}{dx}(\\int{sin(x^2)dx|^{h+2}-\\int{sin(x^2)dx|^2}})}{1}\\\\\n",
       "\\lim_{h \\to 0}sin((h+2)^2)=sin(4)\n",
       "\\end{equation}\n"
      ],
      "text/plain": [
       "<IPython.core.display.Latex object>"
      ]
     },
     "metadata": {},
     "output_type": "display_data"
    }
   ],
   "source": [
    "x, h = symbols('x h')\n",
    "eq_7b = Limit((1/h) * Integral(sin(x ** 2), (x, 2, 2 + h)), h, 0)\n",
    "display_latex(r\"\"\"\n",
    "\\begin{equation}\n",
    "%(equation)s\\\\\n",
    "\\text{Wrong sympy answer: }%(sympy_answer)s\\\\\n",
    "\\text{Correct answer: }\\\\\n",
    "%(equation)s\\\\\n",
    "\\text{Using L'Hopital's rule}\\\\\n",
    "\\lim_{h \\to 0}\\frac{\\frac{d}{dx}(\\int{sin(x^2)dx|^{h+2}-\\int{sin(x^2)dx|^2}})}{1}\\\\\n",
    "\\lim_{h \\to 0}sin((h+2)^2)=sin(4)\n",
    "\\end{equation}\n",
    "\"\"\" % {\n",
    "    \"equation\": eq_7b.latex(),\n",
    "    \"sympy_answer\": eq_7b.doit().latex()\n",
    "})"
   ]
  },
  {
   "cell_type": "markdown",
   "metadata": {},
   "source": [
    "8.\n",
    "Compute the following definite integrals:"
   ]
  },
  {
   "cell_type": "markdown",
   "metadata": {},
   "source": [
    "* (a)"
   ]
  },
  {
   "cell_type": "code",
   "execution_count": 283,
   "metadata": {},
   "outputs": [
    {
     "data": {
      "text/latex": [
       "\n",
       "\\begin{equation}\n",
       "\\int_{0}^{\\frac{\\pi}{4}} \\tan{\\left (x \\right )} \\sec^{2}{\\left (x \\right )}\\, dx\\\\\n",
       "\\text{Analytic answer: }\\\\\n",
       "u=sec(x)\\\\\n",
       "u^\\prime=tan(x)sec(x)dx\n",
       "\\int_{0}^{\\frac{\\pi}{4}} \\tan{\\left (x \\right )} \\sec^{2}{\\left (x \\right )}\\, dx=\\int_{x=0}^{x=\\frac{\\pi}{4}}{udu}=\\frac{1}{2}u^2 + C=\\\\\n",
       "\\frac{1}{2}sec^2(x)|_0^\\frac{\\pi}{4}=\\frac{1}{2}\\frac{1}{cos^2(x)}|_0^\\frac{\\pi}{4}=\\frac{1}{2}\\\\\n",
       "\\text{Sympy answer: }1/2\n",
       "\\end{equation}\n"
      ],
      "text/plain": [
       "<IPython.core.display.Latex object>"
      ]
     },
     "metadata": {},
     "output_type": "display_data"
    }
   ],
   "source": [
    "displayed = r\"\"\"\n",
    "\\begin{equation}\n",
    "%(equation)s\\\\\n",
    "\\text{Analytic answer: }\\\\\n",
    "u=sec(x)\\\\\n",
    "u^\\prime=tan(x)sec(x)dx\n",
    "%(equation)s=\\int_{x=0}^{x=\\frac{\\pi}{4}}{udu}=\\frac{1}{2}u^2 + C=\\\\\n",
    "\\frac{1}{2}sec^2(x)|_0^\\frac{\\pi}{4}=\\frac{1}{2}\\frac{1}{cos^2(x)}|_0^\\frac{\\pi}{4}=\\frac{1}{2}\\\\\n",
    "\\text{Sympy answer: }%(sympy_answer)s\n",
    "\\end{equation}\n",
    "\"\"\"\n",
    "x = symbols('x')\n",
    "eq_8a = Integral(tan(x) * sec(x) ** 2, (x, 0, pi/4))\n",
    "display_args = {\n",
    "    \"equation\": latex(eq_8a),\n",
    "    \"sympy_answer\": eq_8a.doit()\n",
    "}\n",
    "display_latex(displayed % display_args)"
   ]
  },
  {
   "cell_type": "markdown",
   "metadata": {},
   "source": [
    "* (b)"
   ]
  },
  {
   "cell_type": "code",
   "execution_count": 282,
   "metadata": {},
   "outputs": [
    {
     "data": {
      "text/latex": [
       "\n",
       "\\begin{equation}\n",
       "\\int_{1}^{2} x \\log{\\left (x \\right )}\\, dx\\\\\n",
       "\\text{Integration by parts}\\\\\n",
       "u=log(x)\\text{ and }u^\\prime=\\frac{1}{x}\\\\\n",
       "v^\\prime=x\\text{ and }v=\\frac{1}{2}x^2\\\\\n",
       "\\int_{1}^{2} x \\log{\\left (x \\right )}\\, dx\\\\\n",
       "\\frac{1}{2}x^2log(x)|_1^2-\\int_1^2\\frac{1}{2}x\\\\\n",
       "\\frac{1}{2}x^2log(x)|_1^2-\\frac{1}{4}x^2|_1^2\\\\\n",
       "\\text{Answer: }2log(2) - \\frac{1}{2}log(1) - \\frac{3}{4}\n",
       "\n",
       "\\\\\n",
       "\\text{SymPy answer: }-3/4 + 2*log(2)\n",
       "\\end{equation}\n"
      ],
      "text/plain": [
       "<IPython.core.display.Latex object>"
      ]
     },
     "metadata": {},
     "output_type": "display_data"
    }
   ],
   "source": [
    "displayed = r\"\"\"\n",
    "\\begin{equation}\n",
    "%(equation)s\\\\\n",
    "\\text{Integration by parts}\\\\\n",
    "u=log(x)\\text{ and }u^\\prime=\\frac{1}{x}\\\\\n",
    "v^\\prime=x\\text{ and }v=\\frac{1}{2}x^2\\\\\n",
    "%(equation)s\\\\\n",
    "\\frac{1}{2}x^2log(x)|_1^2-\\int_1^2\\frac{1}{2}x\\\\\n",
    "\\frac{1}{2}x^2log(x)|_1^2-\\frac{1}{4}x^2|_1^2\\\\\n",
    "\\text{Answer: }2log(2) - \\frac{1}{2}log(1) - \\frac{3}{4}\n",
    "\n",
    "\\\\\n",
    "\\text{SymPy answer: }%(sympy_answer)s\n",
    "\\end{equation}\n",
    "\"\"\"\n",
    "x = symbols('x')\n",
    "eq_8b = Integral(x * log(x), (x, 1, 2))\n",
    "display_args = {\n",
    "    \"equation\": latex(eq_8b),\n",
    "    \"sympy_answer\": eq_8b.doit()\n",
    "}\n",
    "display_latex(displayed % display_args)"
   ]
  },
  {
   "cell_type": "markdown",
   "metadata": {},
   "source": [
    "9.\n",
    "Calculate the following indefinite integral:"
   ]
  },
  {
   "cell_type": "code",
   "execution_count": 349,
   "metadata": {},
   "outputs": [
    {
     "data": {
      "text/latex": [
       "\n",
       "\\begin{equation}\n",
       "\\int \\frac{x^{2}}{\\sqrt{- x^{2} + 9}}\\, dx\\\\\n",
       "\n",
       "\\textbf{Use trig substitution}\\\\\n",
       "9sin(\\theta)=-9cos^2(\\theta) + 9\\\\\n",
       "x^2=9cos^2(\\theta)\\\\\n",
       "x=3cos(\\theta)\\\\\n",
       "dx=-3sin(\\theta)\\\\\n",
       "3sin(\\theta)=\\sqrt{-x^2+9}\\\\\n",
       "\n",
       "\\textbf{Calculate: }\\\\\n",
       "\\int \\frac{x^{2}}{\\sqrt{- x^{2} + 9}}\\, dx=\\int{\\frac{9cos^2(\\theta)(-3)sin(\\theta)}{3sin(\\theta)}}=-9\\int{cos^2(\\theta)}\\\\\n",
       "\n",
       "\\textbf{Use double angle formula}\\\\\n",
       "-9\\int{cos^2(\\theta)}=\n",
       "-9\\int{\\frac{1+cos(2\\theta)}{2}}=\n",
       "-\\frac{9}{2}(\\theta+\\frac{1}{2}sin(2\\theta))\\\\\n",
       "\n",
       "\\textbf{Get the value of }\\theta\\textbf{ from }x=3cos(\\theta)\\\\\n",
       "\\theta=arccos(\\frac{x}{3})\\\\\n",
       "\\end{equation}\n"
      ],
      "text/plain": [
       "<IPython.core.display.Latex object>"
      ]
     },
     "metadata": {},
     "output_type": "display_data"
    }
   ],
   "source": [
    "displayed = r\"\"\"\n",
    "\\begin{equation}\n",
    "%(equation)s\\\\\n",
    "\n",
    "\\textbf{Use trig substitution}\\\\\n",
    "9sin(\\theta)=-9cos^2(\\theta) + 9\\\\\n",
    "x^2=9cos^2(\\theta)\\\\\n",
    "x=3cos(\\theta)\\\\\n",
    "dx=-3sin(\\theta)\\\\\n",
    "3sin(\\theta)=\\sqrt{-x^2+9}\\\\\n",
    "\n",
    "\\textbf{Calculate: }\\\\\n",
    "%(equation)s=\\int{\\frac{9cos^2(\\theta)(-3)sin(\\theta)}{3sin(\\theta)}}=-9\\int{cos^2(\\theta)}\\\\\n",
    "\n",
    "\\textbf{Use double angle formula}\\\\\n",
    "-9\\int{cos^2(\\theta)}=\n",
    "-9\\int{\\frac{1+cos(2\\theta)}{2}}=\n",
    "-\\frac{9}{2}(\\theta+\\frac{1}{2}sin(2\\theta))\\\\\n",
    "\n",
    "\\textbf{Get the value of }\\theta\\textbf{ from }x=3cos(\\theta)\\\\\n",
    "\\theta=arccos(\\frac{x}{3})\\\\\n",
    "\\end{equation}\n",
    "\"\"\"\n",
    "\n",
    "eq_9 = Integral(x ** 2 /(sqrt(9 - x ** 2)), x)\n",
    "\n",
    "displayed_args = {\n",
    "    \"equation\": latex(eq_9)\n",
    "}\n",
    "display(Latex(displayed % displayed_args))"
   ]
  },
  {
   "cell_type": "code",
   "execution_count": 353,
   "metadata": {},
   "outputs": [
    {
     "data": {
      "text/latex": [
       "\n",
       "\\begin{equation}\n",
       "\\textbf{Figure out what is }sin(2\\theta)\\\\\n",
       "\\text{Can't do :/}\\\\\n",
       "\\text{Sympy answer: }- \\frac{x}{2} \\sqrt{- x^{2} + 9} + \\frac{9}{2} \\operatorname{asin}{\\left (\\frac{x}{3} \\right )}\n",
       "\\end{equation}\n"
      ],
      "text/plain": [
       "<IPython.core.display.Latex object>"
      ]
     },
     "metadata": {},
     "output_type": "display_data"
    }
   ],
   "source": [
    "displayed = r\"\"\"\n",
    "\\begin{equation}\n",
    "\\textbf{Figure out what is }sin(2\\theta)\\\\\n",
    "\\text{Can't do :/}\\\\\n",
    "\\text{Sympy answer: }%(sympy_answer)s\n",
    "\\end{equation}\n",
    "\"\"\"\n",
    "\n",
    "displayed_args = {\n",
    "    \"sympy_answer\": latex(eq_9.doit())\n",
    "}\n",
    "\n",
    "display(Latex(displayed % displayed_args))\n"
   ]
  },
  {
   "cell_type": "markdown",
   "metadata": {},
   "source": [
    "10.\n"
   ]
  }
 ],
 "metadata": {
  "kernelspec": {
   "display_name": "Python 3",
   "language": "python",
   "name": "python3"
  },
  "language_info": {
   "codemirror_mode": {
    "name": "ipython",
    "version": 3
   },
   "file_extension": ".py",
   "mimetype": "text/x-python",
   "name": "python",
   "nbconvert_exporter": "python",
   "pygments_lexer": "ipython3",
   "version": "3.6.5"
  }
 },
 "nbformat": 4,
 "nbformat_minor": 2
}
